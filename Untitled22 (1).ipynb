{
 "cells": [
  {
   "cell_type": "code",
   "execution_count": 5,
   "id": "14e55273",
   "metadata": {},
   "outputs": [
    {
     "name": "stdout",
     "output_type": "stream",
     "text": [
      "100,150,180\n",
      "[18, 22, 24]\n"
     ]
    }
   ],
   "source": [
    "import math\n",
    "c=50\n",
    "h=30\n",
    "d=[num for num in input().split(',')]\n",
    "list=[]\n",
    "for i in d:\n",
    "    x=int(round(math.sqrt(2*c*float(i)/h)))\n",
    "    list.append(x)\n",
    "print(list)"
   ]
  },
  {
   "cell_type": "code",
   "execution_count": 8,
   "id": "998f3c21",
   "metadata": {},
   "outputs": [
    {
     "name": "stdout",
     "output_type": "stream",
     "text": [
      "3\n",
      "5\n",
      "[[0, 0, 0, 0, 0], [0, 1, 2, 3, 4], [0, 2, 4, 6, 8]]\n"
     ]
    }
   ],
   "source": [
    "row=int(input())\n",
    "col=int(input())\n",
    "mat=[[0 for i in range(col)] for j in range(row)]\n",
    "for i in range(row):\n",
    "    for j in range(col):\n",
    "        mat[i][j]=i*j\n",
    "print(mat)"
   ]
  },
  {
   "cell_type": "code",
   "execution_count": 13,
   "id": "9c0cfdaf",
   "metadata": {},
   "outputs": [
    {
     "name": "stdout",
     "output_type": "stream",
     "text": [
      "without,hello,bag,world\n",
      "bag,hello,without,world\n"
     ]
    }
   ],
   "source": [
    "str=[x for x in input().split(',')]\n",
    "str.sort()\n",
    "print(','.join(str))"
   ]
  },
  {
   "cell_type": "code",
   "execution_count": 15,
   "id": "c3af4173",
   "metadata": {},
   "outputs": [
    {
     "name": "stdout",
     "output_type": "stream",
     "text": [
      "hello world! 123\n",
      "LETTERS 10\n",
      "DIGITS 3\n"
     ]
    }
   ],
   "source": [
    "str=input()\n",
    "d=l=0\n",
    "for i in str:\n",
    "    if i.isdigit():\n",
    "        d=d+1\n",
    "    elif i.isalpha():\n",
    "        l=l+1\n",
    "    else:\n",
    "        pass\n",
    "print(\"LETTERS\",l)\n",
    "print(\"DIGITS\",d)"
   ]
  },
  {
   "cell_type": "code",
   "execution_count": 16,
   "id": "dfa18050",
   "metadata": {},
   "outputs": [
    {
     "name": "stdout",
     "output_type": "stream",
     "text": [
      "ABd1234@1,a F1#,2w3E*,2We3345\n",
      "ABd1234@1\n"
     ]
    }
   ],
   "source": [
    "import re\n",
    "str=input().split(',')\n",
    "for i in str:\n",
    "    if(len(i)>=6 and len(i)<=12):\n",
    "        if re.search(\"([a-z])+\",i):\n",
    "            if re.search(\"([A-Z])+\",i):\n",
    "                if re.search(\"([0-9])+\",i):\n",
    "                    if re.search(\"([#,@,$])+\",i):\n",
    "                        print(i)"
   ]
  }
 ],
 "metadata": {
  "kernelspec": {
   "display_name": "Python 3 (ipykernel)",
   "language": "python",
   "name": "python3"
  },
  "language_info": {
   "codemirror_mode": {
    "name": "ipython",
    "version": 3
   },
   "file_extension": ".py",
   "mimetype": "text/x-python",
   "name": "python",
   "nbconvert_exporter": "python",
   "pygments_lexer": "ipython3",
   "version": "3.9.7"
  }
 },
 "nbformat": 4,
 "nbformat_minor": 5
}
